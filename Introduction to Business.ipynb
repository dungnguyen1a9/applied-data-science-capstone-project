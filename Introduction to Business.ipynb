{
 "cells": [
  {
   "cell_type": "markdown",
   "metadata": {},
   "source": [
    "## I. INTRODUCTION TO BUSINESS\n",
    "   This project is about analyzing two big financial cities in the world, which are City of Toronto in Canada and New York City in New York. In the project, we need to analyze the difference and similarity of these two cities. This analysis will be the foundation that is used to advise contractors to make decision about starting their own business. The project will have two parts, which is defined as:\n",
    "\n",
    "   1. Part 1: Comparison between City of Toronto and New York City. \n",
    "\n",
    "   2. Part 2: Advising contractors that which neighborhood is promising for them to open their own restaurant or office. \n",
    "\n",
    "## II. ANALYZING AND DISCUSSION\n",
    "   <b>• Part 1 :</b>\n",
    "    1. Desired Data: \n",
    "-\tAs we all know, for big cities in the developed country, its population is often high. The higher population will usually lead to many social problems. And the most serious social problems are crime and traffic. Therefore, in the first part, the desired data will be crime rate, the traffic collision, and population between two cities.  In fact, these data will be really important to evaluate cities potential business and public safety. \n",
    "\n",
    "    2. Data Sources: \n",
    "-\tCity of Toronto crime data for each Borough is from Open Toronto.\n",
    "-\tNew York City crime data for each Borough is from Kaggle dataset\n",
    "-\tNew York City and City of Toronto population data from Kaggle and Wikipedia dataset respectively. \n",
    "\n",
    "    <b>• Part 2 :</b>\n",
    "    1. Desired Data\n",
    "- New York City Census data. This data will be used to explore New York economic potentials\n",
    "- Venues location data. This data is used to see which location that business owner should open their business.\n",
    "- New York Borough and Neighborhoods location data. This data allow us have exact latitude and longitude. \n",
    "    2. Data Sources:\n",
    "- New York City Census is from Kaggle dataset\n",
    "- Venues location is from Foursquare. \n",
    "-  New York Borough and Neighborhoods from Cognitive Class.ai\n",
    "    3. City Selection \n",
    "- New York City will be chosen city to open business because its population is high and its available data is popular.\n",
    "    4. Borough Selection – Income , Poverty, and Unemployment rate\n",
    "- Before which neighborhoods will be the best one to open the business, we need to know which borough has the highest potential. These potentials will be determined by New York City income, poverty, and unemployment rates.\n",
    "\n",
    "    5. Model Development – K-clustering\n",
    "- K- clustering is chosen because it can show the most common venues in the location and from that information, we can determine that if we should open restaurant or office. Besides that, the number of cluster will be used is five.\n",
    "\n",
    "    6. Neighborhood Selection\n",
    "- The neighborhood for opening restaurant will be chosen is not the one has highest number of restaurants in the location because it is highly competitive and the owner also can not optimize their revenue based on game theory. In addition, for opening restaurant, we should look for location that has high number of supermarkets or markets nearby because it will allow restaurant maintain low cost food but high quality. For opening office, it will be the best to open office at location that has cafe shop, fast food or restaurants as common venues since it will be optimize the convenience."
   ]
  },
  {
   "cell_type": "markdown",
   "metadata": {},
   "source": []
  },
  {
   "cell_type": "code",
   "execution_count": null,
   "metadata": {},
   "outputs": [],
   "source": []
  },
  {
   "cell_type": "code",
   "execution_count": null,
   "metadata": {},
   "outputs": [],
   "source": []
  },
  {
   "cell_type": "code",
   "execution_count": null,
   "metadata": {},
   "outputs": [],
   "source": []
  },
  {
   "cell_type": "code",
   "execution_count": null,
   "metadata": {},
   "outputs": [],
   "source": []
  },
  {
   "cell_type": "code",
   "execution_count": null,
   "metadata": {},
   "outputs": [],
   "source": []
  },
  {
   "cell_type": "code",
   "execution_count": null,
   "metadata": {},
   "outputs": [],
   "source": []
  },
  {
   "cell_type": "code",
   "execution_count": null,
   "metadata": {},
   "outputs": [],
   "source": []
  }
 ],
 "metadata": {
  "kernelspec": {
   "display_name": "Python 3",
   "language": "python",
   "name": "python3"
  },
  "language_info": {
   "codemirror_mode": {
    "name": "ipython",
    "version": 3
   },
   "file_extension": ".py",
   "mimetype": "text/x-python",
   "name": "python",
   "nbconvert_exporter": "python",
   "pygments_lexer": "ipython3",
   "version": "3.6.8"
  }
 },
 "nbformat": 4,
 "nbformat_minor": 2
}
